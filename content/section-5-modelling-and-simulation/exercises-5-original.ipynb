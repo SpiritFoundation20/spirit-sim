{
 "cells": [
  {
   "cell_type": "markdown",
   "metadata": {
    "slideshow": {
     "slide_type": "-"
    }
   },
   "source": [
    "<span style=\"display:block;text-align:center;margin-right:105px\"><img src=\"../../media/logos/logo-vertical.png\" width=\"200\"/></span>\n",
    "\n",
    "# Section 5: Modelling & Simulation Exercises\n",
    "\n",
    "---"
   ]
  },
  {
   "cell_type": "markdown",
   "metadata": {},
   "source": [
    "## Exercise 1: Partial State Update Blocks\n",
    "\n",
    "Given the following policy function `p_example`, state update function `s_example`, and list of partial state update blocks `partial_state_update_blocks`, answer the following questions:"
   ]
  },
  {
   "cell_type": "code",
   "execution_count": 4,
   "metadata": {},
   "outputs": [],
   "source": [
    "def p_example(params, substep, state_history, previous_state):\n",
    "    return {'example_signal': 1}\n",
    "    \n",
    "def s_example(params, substep, state_history, previous_state, policy_input):\n",
    "    example_signal = policy_input['example_signal']\n",
    "    return 'example_state', example_signal\n",
    "\n",
    "partial_state_update_blocks = [\n",
    "    {\n",
    "        'policies': {\n",
    "            'example_policy': p_example\n",
    "        },\n",
    "        'variables': {\n",
    "            'example_state': s_example\n",
    "        }\n",
    "    }\n",
    "]"
   ]
  },
  {
   "cell_type": "markdown",
   "metadata": {},
   "source": [
    "### 1. After one timestep, what will the value of the state variable `example_state` be?"
   ]
  },
  {
   "cell_type": "markdown",
   "metadata": {},
   "source": [
    "1"
   ]
  },
  {
   "cell_type": "markdown",
   "metadata": {},
   "source": [
    "### 2. How many substeps will the timestep have?"
   ]
  },
  {
   "cell_type": "markdown",
   "metadata": {},
   "source": [
    "1"
   ]
  },
  {
   "cell_type": "markdown",
   "metadata": {},
   "source": [
    "## Exercise 2: Differential Specification\n",
    "\n",
    "Given the following differential specification diagram, with two policy functions `p_example_1` and `p_example_2`, two state update functions `s_example_1` and `s_example_2`, and two states `state_1` and `state_2`, complete the following exercises and questions, assuming the two policy functions return the same signal key value pair of `{'example_signal': 1}`:"
   ]
  },
  {
   "cell_type": "markdown",
   "metadata": {},
   "source": [
    "<center>\n",
    "<img src=\"./images/s5-exercise-diff-spec.png\"\n",
    "     alt=\"Exercise diff. spec.\"\n",
    "     style=\"width: 60%;\" />\n",
    "</center>"
   ]
  },
  {
   "cell_type": "markdown",
   "metadata": {},
   "source": [
    "### 1. Complete the two policy functions and state update functions."
   ]
  },
  {
   "cell_type": "code",
   "execution_count": 5,
   "metadata": {},
   "outputs": [],
   "source": [
    "# The following functions are incomplete - fill in the gaps and run the cell\n",
    "\n",
    "# Fill in function arguments\n",
    "def p_example_1(params, substep, state_history, previous_state):\n",
    "    # Fill in return value\n",
    "    return {'example_signal': 1}\n",
    "\n",
    "# Fill in function arguments\n",
    "def p_example_2(params, substep, state_history, previous_state):\n",
    "    # Fill in return value\n",
    "    return {'example_signal': 1}\n",
    "\n",
    "# Fill in function arguments\n",
    "def s_example_1(params, substep, state_history, previous_state, policy_input):\n",
    "    # Hint: take the differential spec. diagram as the source of truth, and correct the function\n",
    "\n",
    "    # Fill in return value\n",
    "    return {'state_1': 1}\n",
    "\n",
    "# Fill in function arguments\n",
    "def s_example_2(params, substep, state_history, previous_state, policy_input):\n",
    "    # Fill in policy signal key\n",
    "    new_state = policy_input['example_signal']\n",
    "    # Fill in return value\n",
    "    return 'state_2', new_state"
   ]
  },
  {
   "cell_type": "markdown",
   "metadata": {},
   "source": [
    "### 2. Fill in the partial state update block to properly represent the differential specification."
   ]
  },
  {
   "cell_type": "code",
   "execution_count": 6,
   "metadata": {},
   "outputs": [],
   "source": [
    "# The following statement is incomplete - fill in the gaps and run the cell\n",
    "\n",
    "partial_state_update_blocks = [\n",
    "    {\n",
    "        'policies': {\n",
    "            'p2': p_example_1,\n",
    "            'p2': p_example_2,\n",
    "        }, # Fill in policies\n",
    "        'variables': { # Fill in state update functions\n",
    "            'state_1': s_example_1,\n",
    "            'state_2': s_example_2,\n",
    "        }\n",
    "    }\n",
    "]"
   ]
  },
  {
   "cell_type": "markdown",
   "metadata": {},
   "source": [
    "### 3. What happens when two policy functions return the same signal key, and what signal value would be passed to the state update function `s_example_2` (note the assumptions)?"
   ]
  },
  {
   "cell_type": "markdown",
   "metadata": {},
   "source": [
    "Their value is summed."
   ]
  },
  {
   "cell_type": "markdown",
   "metadata": {},
   "source": [
    "## Exercise 3: Simulation Data Manipulation and Analysis\n",
    "\n",
    "Given the Pandas dataframe `df` from our section 5 ecosystem model simulation, complete the following exercises and questions using Pandas data manipulation where necessary:"
   ]
  },
  {
   "cell_type": "code",
   "execution_count": 7,
   "metadata": {},
   "outputs": [
    {
     "data": {
      "text/html": [
       "<div>\n",
       "<style scoped>\n",
       "    .dataframe tbody tr th:only-of-type {\n",
       "        vertical-align: middle;\n",
       "    }\n",
       "\n",
       "    .dataframe tbody tr th {\n",
       "        vertical-align: top;\n",
       "    }\n",
       "\n",
       "    .dataframe thead th {\n",
       "        text-align: right;\n",
       "    }\n",
       "</style>\n",
       "<table border=\"1\" class=\"dataframe\">\n",
       "  <thead>\n",
       "    <tr style=\"text-align: right;\">\n",
       "      <th></th>\n",
       "      <th>Unnamed: 0</th>\n",
       "      <th>population</th>\n",
       "      <th>food</th>\n",
       "      <th>simulation</th>\n",
       "      <th>subset</th>\n",
       "      <th>run</th>\n",
       "      <th>substep</th>\n",
       "      <th>timestep</th>\n",
       "    </tr>\n",
       "  </thead>\n",
       "  <tbody>\n",
       "    <tr>\n",
       "      <th>0</th>\n",
       "      <td>0</td>\n",
       "      <td>50</td>\n",
       "      <td>1000.00</td>\n",
       "      <td>0</td>\n",
       "      <td>0</td>\n",
       "      <td>1</td>\n",
       "      <td>0</td>\n",
       "      <td>0</td>\n",
       "    </tr>\n",
       "    <tr>\n",
       "      <th>1</th>\n",
       "      <td>1</td>\n",
       "      <td>60</td>\n",
       "      <td>1009.50</td>\n",
       "      <td>0</td>\n",
       "      <td>0</td>\n",
       "      <td>1</td>\n",
       "      <td>1</td>\n",
       "      <td>1</td>\n",
       "    </tr>\n",
       "    <tr>\n",
       "      <th>2</th>\n",
       "      <td>2</td>\n",
       "      <td>71</td>\n",
       "      <td>1018.90</td>\n",
       "      <td>0</td>\n",
       "      <td>0</td>\n",
       "      <td>1</td>\n",
       "      <td>1</td>\n",
       "      <td>2</td>\n",
       "    </tr>\n",
       "    <tr>\n",
       "      <th>3</th>\n",
       "      <td>3</td>\n",
       "      <td>82</td>\n",
       "      <td>1028.19</td>\n",
       "      <td>0</td>\n",
       "      <td>0</td>\n",
       "      <td>1</td>\n",
       "      <td>1</td>\n",
       "      <td>3</td>\n",
       "    </tr>\n",
       "    <tr>\n",
       "      <th>4</th>\n",
       "      <td>4</td>\n",
       "      <td>93</td>\n",
       "      <td>1037.37</td>\n",
       "      <td>0</td>\n",
       "      <td>0</td>\n",
       "      <td>1</td>\n",
       "      <td>1</td>\n",
       "      <td>4</td>\n",
       "    </tr>\n",
       "    <tr>\n",
       "      <th>...</th>\n",
       "      <td>...</td>\n",
       "      <td>...</td>\n",
       "      <td>...</td>\n",
       "      <td>...</td>\n",
       "      <td>...</td>\n",
       "      <td>...</td>\n",
       "      <td>...</td>\n",
       "      <td>...</td>\n",
       "    </tr>\n",
       "    <tr>\n",
       "      <th>797</th>\n",
       "      <td>797</td>\n",
       "      <td>1102</td>\n",
       "      <td>902.16</td>\n",
       "      <td>1</td>\n",
       "      <td>0</td>\n",
       "      <td>1</td>\n",
       "      <td>1</td>\n",
       "      <td>396</td>\n",
       "    </tr>\n",
       "    <tr>\n",
       "      <th>798</th>\n",
       "      <td>798</td>\n",
       "      <td>1101</td>\n",
       "      <td>901.14</td>\n",
       "      <td>1</td>\n",
       "      <td>0</td>\n",
       "      <td>1</td>\n",
       "      <td>1</td>\n",
       "      <td>397</td>\n",
       "    </tr>\n",
       "    <tr>\n",
       "      <th>799</th>\n",
       "      <td>799</td>\n",
       "      <td>1100</td>\n",
       "      <td>900.13</td>\n",
       "      <td>1</td>\n",
       "      <td>0</td>\n",
       "      <td>1</td>\n",
       "      <td>1</td>\n",
       "      <td>398</td>\n",
       "    </tr>\n",
       "    <tr>\n",
       "      <th>800</th>\n",
       "      <td>800</td>\n",
       "      <td>1099</td>\n",
       "      <td>899.13</td>\n",
       "      <td>1</td>\n",
       "      <td>0</td>\n",
       "      <td>1</td>\n",
       "      <td>1</td>\n",
       "      <td>399</td>\n",
       "    </tr>\n",
       "    <tr>\n",
       "      <th>801</th>\n",
       "      <td>801</td>\n",
       "      <td>1098</td>\n",
       "      <td>898.14</td>\n",
       "      <td>1</td>\n",
       "      <td>0</td>\n",
       "      <td>1</td>\n",
       "      <td>1</td>\n",
       "      <td>400</td>\n",
       "    </tr>\n",
       "  </tbody>\n",
       "</table>\n",
       "<p>802 rows × 8 columns</p>\n",
       "</div>"
      ],
      "text/plain": [
       "     Unnamed: 0  population     food  simulation  subset  run  substep  \\\n",
       "0             0          50  1000.00           0       0    1        0   \n",
       "1             1          60  1009.50           0       0    1        1   \n",
       "2             2          71  1018.90           0       0    1        1   \n",
       "3             3          82  1028.19           0       0    1        1   \n",
       "4             4          93  1037.37           0       0    1        1   \n",
       "..          ...         ...      ...         ...     ...  ...      ...   \n",
       "797         797        1102   902.16           1       0    1        1   \n",
       "798         798        1101   901.14           1       0    1        1   \n",
       "799         799        1100   900.13           1       0    1        1   \n",
       "800         800        1099   899.13           1       0    1        1   \n",
       "801         801        1098   898.14           1       0    1        1   \n",
       "\n",
       "     timestep  \n",
       "0           0  \n",
       "1           1  \n",
       "2           2  \n",
       "3           3  \n",
       "4           4  \n",
       "..        ...  \n",
       "797       396  \n",
       "798       397  \n",
       "799       398  \n",
       "800       399  \n",
       "801       400  \n",
       "\n",
       "[802 rows x 8 columns]"
      ]
     },
     "execution_count": 7,
     "metadata": {},
     "output_type": "execute_result"
    }
   ],
   "source": [
    "import pandas as pd\n",
    "\n",
    "df = pd.read_csv('exercise.csv')\n",
    "df"
   ]
  },
  {
   "cell_type": "markdown",
   "metadata": {},
   "source": [
    "### 1. What is the **maximum** food supply for simulation `1`?"
   ]
  },
  {
   "cell_type": "code",
   "execution_count": 12,
   "metadata": {},
   "outputs": [
    {
     "data": {
      "text/plain": [
       "1499.7199999999998"
      ]
     },
     "execution_count": 12,
     "metadata": {},
     "output_type": "execute_result"
    }
   ],
   "source": [
    "# The following statements are incomplete - fill in the gaps and run the cell\n",
    "df_simulation_1 = df.query('simulation == 1')\n",
    "df_simulation_1['food'].max()"
   ]
  },
  {
   "cell_type": "markdown",
   "metadata": {},
   "source": [
    "### 2. What is the **difference** between the maximum population for simulation `0` and `1`?"
   ]
  },
  {
   "cell_type": "code",
   "execution_count": 14,
   "metadata": {},
   "outputs": [
    {
     "data": {
      "text/plain": [
       "1133"
      ]
     },
     "execution_count": 14,
     "metadata": {},
     "output_type": "execute_result"
    }
   ],
   "source": [
    "# The following statements are incomplete - fill in the gaps and run the cell\n",
    "max_population_simulation_0 = df.query('simulation == 0')['population'].max()\n",
    "max_population_simulation_1 = df.query('simulation == 1')['population'].max()\n",
    "\n",
    "max_population_simulation_0 - max_population_simulation_1"
   ]
  },
  {
   "cell_type": "markdown",
   "metadata": {},
   "source": [
    "### 3. Using a Plotly line chart, plot the food supply **rate of change** over time for simulation `1`, using the Pandas `diff()` method."
   ]
  },
  {
   "cell_type": "code",
   "execution_count": 16,
   "metadata": {},
   "outputs": [],
   "source": [
    "import pandas as pd\n",
    "pd.options.plotting.backend = \"plotly\"\n",
    "\n",
    "# The following statements are incomplete - fill in the gaps and run the cell\n",
    "diff_df = df.query('simulation == 1').copy()\n",
    "diff_df['food_diff'] = diff_df['food'].diff()"
   ]
  },
  {
   "cell_type": "code",
   "execution_count": 17,
   "metadata": {},
   "outputs": [
    {
     "data": {
      "text/html": [
       "<div>\n",
       "<style scoped>\n",
       "    .dataframe tbody tr th:only-of-type {\n",
       "        vertical-align: middle;\n",
       "    }\n",
       "\n",
       "    .dataframe tbody tr th {\n",
       "        vertical-align: top;\n",
       "    }\n",
       "\n",
       "    .dataframe thead th {\n",
       "        text-align: right;\n",
       "    }\n",
       "</style>\n",
       "<table border=\"1\" class=\"dataframe\">\n",
       "  <thead>\n",
       "    <tr style=\"text-align: right;\">\n",
       "      <th></th>\n",
       "      <th>Unnamed: 0</th>\n",
       "      <th>population</th>\n",
       "      <th>food</th>\n",
       "      <th>simulation</th>\n",
       "      <th>subset</th>\n",
       "      <th>run</th>\n",
       "      <th>substep</th>\n",
       "      <th>timestep</th>\n",
       "      <th>food_diff</th>\n",
       "    </tr>\n",
       "  </thead>\n",
       "  <tbody>\n",
       "    <tr>\n",
       "      <th>401</th>\n",
       "      <td>401</td>\n",
       "      <td>50</td>\n",
       "      <td>1000.00</td>\n",
       "      <td>1</td>\n",
       "      <td>0</td>\n",
       "      <td>1</td>\n",
       "      <td>0</td>\n",
       "      <td>0</td>\n",
       "      <td>NaN</td>\n",
       "    </tr>\n",
       "    <tr>\n",
       "      <th>402</th>\n",
       "      <td>402</td>\n",
       "      <td>60</td>\n",
       "      <td>1009.50</td>\n",
       "      <td>1</td>\n",
       "      <td>0</td>\n",
       "      <td>1</td>\n",
       "      <td>1</td>\n",
       "      <td>1</td>\n",
       "      <td>9.50</td>\n",
       "    </tr>\n",
       "    <tr>\n",
       "      <th>403</th>\n",
       "      <td>403</td>\n",
       "      <td>70</td>\n",
       "      <td>1018.90</td>\n",
       "      <td>1</td>\n",
       "      <td>0</td>\n",
       "      <td>1</td>\n",
       "      <td>1</td>\n",
       "      <td>2</td>\n",
       "      <td>9.40</td>\n",
       "    </tr>\n",
       "    <tr>\n",
       "      <th>404</th>\n",
       "      <td>404</td>\n",
       "      <td>80</td>\n",
       "      <td>1028.20</td>\n",
       "      <td>1</td>\n",
       "      <td>0</td>\n",
       "      <td>1</td>\n",
       "      <td>1</td>\n",
       "      <td>3</td>\n",
       "      <td>9.30</td>\n",
       "    </tr>\n",
       "    <tr>\n",
       "      <th>405</th>\n",
       "      <td>405</td>\n",
       "      <td>90</td>\n",
       "      <td>1037.40</td>\n",
       "      <td>1</td>\n",
       "      <td>0</td>\n",
       "      <td>1</td>\n",
       "      <td>1</td>\n",
       "      <td>4</td>\n",
       "      <td>9.20</td>\n",
       "    </tr>\n",
       "    <tr>\n",
       "      <th>...</th>\n",
       "      <td>...</td>\n",
       "      <td>...</td>\n",
       "      <td>...</td>\n",
       "      <td>...</td>\n",
       "      <td>...</td>\n",
       "      <td>...</td>\n",
       "      <td>...</td>\n",
       "      <td>...</td>\n",
       "      <td>...</td>\n",
       "    </tr>\n",
       "    <tr>\n",
       "      <th>797</th>\n",
       "      <td>797</td>\n",
       "      <td>1102</td>\n",
       "      <td>902.16</td>\n",
       "      <td>1</td>\n",
       "      <td>0</td>\n",
       "      <td>1</td>\n",
       "      <td>1</td>\n",
       "      <td>396</td>\n",
       "      <td>-1.03</td>\n",
       "    </tr>\n",
       "    <tr>\n",
       "      <th>798</th>\n",
       "      <td>798</td>\n",
       "      <td>1101</td>\n",
       "      <td>901.14</td>\n",
       "      <td>1</td>\n",
       "      <td>0</td>\n",
       "      <td>1</td>\n",
       "      <td>1</td>\n",
       "      <td>397</td>\n",
       "      <td>-1.02</td>\n",
       "    </tr>\n",
       "    <tr>\n",
       "      <th>799</th>\n",
       "      <td>799</td>\n",
       "      <td>1100</td>\n",
       "      <td>900.13</td>\n",
       "      <td>1</td>\n",
       "      <td>0</td>\n",
       "      <td>1</td>\n",
       "      <td>1</td>\n",
       "      <td>398</td>\n",
       "      <td>-1.01</td>\n",
       "    </tr>\n",
       "    <tr>\n",
       "      <th>800</th>\n",
       "      <td>800</td>\n",
       "      <td>1099</td>\n",
       "      <td>899.13</td>\n",
       "      <td>1</td>\n",
       "      <td>0</td>\n",
       "      <td>1</td>\n",
       "      <td>1</td>\n",
       "      <td>399</td>\n",
       "      <td>-1.00</td>\n",
       "    </tr>\n",
       "    <tr>\n",
       "      <th>801</th>\n",
       "      <td>801</td>\n",
       "      <td>1098</td>\n",
       "      <td>898.14</td>\n",
       "      <td>1</td>\n",
       "      <td>0</td>\n",
       "      <td>1</td>\n",
       "      <td>1</td>\n",
       "      <td>400</td>\n",
       "      <td>-0.99</td>\n",
       "    </tr>\n",
       "  </tbody>\n",
       "</table>\n",
       "<p>401 rows × 9 columns</p>\n",
       "</div>"
      ],
      "text/plain": [
       "     Unnamed: 0  population     food  simulation  subset  run  substep  \\\n",
       "401         401          50  1000.00           1       0    1        0   \n",
       "402         402          60  1009.50           1       0    1        1   \n",
       "403         403          70  1018.90           1       0    1        1   \n",
       "404         404          80  1028.20           1       0    1        1   \n",
       "405         405          90  1037.40           1       0    1        1   \n",
       "..          ...         ...      ...         ...     ...  ...      ...   \n",
       "797         797        1102   902.16           1       0    1        1   \n",
       "798         798        1101   901.14           1       0    1        1   \n",
       "799         799        1100   900.13           1       0    1        1   \n",
       "800         800        1099   899.13           1       0    1        1   \n",
       "801         801        1098   898.14           1       0    1        1   \n",
       "\n",
       "     timestep  food_diff  \n",
       "401         0        NaN  \n",
       "402         1       9.50  \n",
       "403         2       9.40  \n",
       "404         3       9.30  \n",
       "405         4       9.20  \n",
       "..        ...        ...  \n",
       "797       396      -1.03  \n",
       "798       397      -1.02  \n",
       "799       398      -1.01  \n",
       "800       399      -1.00  \n",
       "801       400      -0.99  \n",
       "\n",
       "[401 rows x 9 columns]"
      ]
     },
     "execution_count": 17,
     "metadata": {},
     "output_type": "execute_result"
    }
   ],
   "source": [
    "diff_df"
   ]
  },
  {
   "cell_type": "code",
   "execution_count": 25,
   "metadata": {},
   "outputs": [
    {
     "data": {},
     "metadata": {},
     "output_type": "display_data"
    },
    {
     "data": {
      "application/vnd.holoviews_exec.v0+json": "",
      "text/html": [
       "<div id='1316'>\n",
       "\n",
       "\n",
       "\n",
       "\n",
       "\n",
       "  <div class=\"bk-root\" id=\"c1c71e7e-dc44-4ead-9f5c-4d75843b76b4\" data-root-id=\"1316\"></div>\n",
       "</div>\n",
       "<script type=\"application/javascript\">(function(root) {\n",
       "  function embed_document(root) {\n",
       "    var docs_json = {\"dda592d0-3b54-4481-9e2d-2befd50dea56\":{\"roots\":{\"references\":[{\"attributes\":{},\"id\":\"1389\",\"type\":\"UnionRenderers\"},{\"attributes\":{\"data_source\":{\"id\":\"1374\"},\"glyph\":{\"id\":\"1377\"},\"hover_glyph\":null,\"muted_glyph\":{\"id\":\"1379\"},\"nonselection_glyph\":{\"id\":\"1378\"},\"selection_glyph\":null,\"view\":{\"id\":\"1381\"}},\"id\":\"1380\",\"type\":\"GlyphRenderer\"},{\"attributes\":{},\"id\":\"1343\",\"type\":\"ResetTool\"},{\"attributes\":{\"label\":{\"value\":\"food\"},\"renderers\":[{\"id\":\"1362\"}]},\"id\":\"1373\",\"type\":\"LegendItem\"},{\"attributes\":{\"source\":{\"id\":\"1374\"}},\"id\":\"1381\",\"type\":\"CDSView\"},{\"attributes\":{},\"id\":\"1353\",\"type\":\"BasicTickFormatter\"},{\"attributes\":{\"line_alpha\":0.2,\"line_color\":\"#ff7e0e\",\"line_width\":2,\"x\":{\"field\":\"timestep\"},\"y\":{\"field\":\"value\"}},\"id\":\"1379\",\"type\":\"Line\"},{\"attributes\":{\"source\":{\"id\":\"1356\"}},\"id\":\"1363\",\"type\":\"CDSView\"},{\"attributes\":{},\"id\":\"1332\",\"type\":\"BasicTicker\"},{\"attributes\":{\"margin\":[5,5,5,5],\"name\":\"HSpacer02111\",\"sizing_mode\":\"stretch_width\"},\"id\":\"1483\",\"type\":\"Spacer\"},{\"attributes\":{\"line_alpha\":0.1,\"line_color\":\"#ff7e0e\",\"line_width\":2,\"x\":{\"field\":\"timestep\"},\"y\":{\"field\":\"value\"}},\"id\":\"1378\",\"type\":\"Line\"},{\"attributes\":{\"line_color\":\"#1f77b3\",\"line_width\":2,\"x\":{\"field\":\"timestep\"},\"y\":{\"field\":\"value\"}},\"id\":\"1359\",\"type\":\"Line\"},{\"attributes\":{},\"id\":\"1375\",\"type\":\"Selection\"},{\"attributes\":{\"line_color\":\"#ff7e0e\",\"line_width\":2,\"x\":{\"field\":\"timestep\"},\"y\":{\"field\":\"value\"}},\"id\":\"1377\",\"type\":\"Line\"},{\"attributes\":{\"data\":{\"Variable\":[\"population\",\"population\",\"population\",\"population\",\"population\",\"population\",\"population\",\"population\",\"population\",\"population\",\"population\",\"population\",\"population\",\"population\",\"population\",\"population\",\"population\",\"population\",\"population\",\"population\",\"population\",\"population\",\"population\",\"population\",\"population\",\"population\",\"population\",\"population\",\"population\",\"population\",\"population\",\"population\",\"population\",\"population\",\"population\",\"population\",\"population\",\"population\",\"population\",\"population\",\"population\",\"population\",\"population\",\"population\",\"population\",\"population\",\"population\",\"population\",\"population\",\"population\",\"population\",\"population\",\"population\",\"population\",\"population\",\"population\",\"population\",\"population\",\"population\",\"population\",\"population\",\"population\",\"population\",\"population\",\"population\",\"population\",\"population\",\"population\",\"population\",\"population\",\"population\",\"population\",\"population\",\"population\",\"population\",\"population\",\"population\",\"population\",\"population\",\"population\",\"population\",\"population\",\"population\",\"population\",\"population\",\"population\",\"population\",\"population\",\"population\",\"population\",\"population\",\"population\",\"population\",\"population\",\"population\",\"population\",\"population\",\"population\",\"population\",\"population\",\"population\",\"population\",\"population\",\"population\",\"population\",\"population\",\"population\",\"population\",\"population\",\"population\",\"population\",\"population\",\"population\",\"population\",\"population\",\"population\",\"population\",\"population\",\"population\",\"population\",\"population\",\"population\",\"population\",\"population\",\"population\",\"population\",\"population\",\"population\",\"population\",\"population\",\"population\",\"population\",\"population\",\"population\",\"population\",\"population\",\"population\",\"population\",\"population\",\"population\",\"population\",\"population\",\"population\",\"population\",\"population\",\"population\",\"population\",\"population\",\"population\",\"population\",\"population\",\"population\",\"population\",\"population\",\"population\",\"population\",\"population\",\"population\",\"population\",\"population\",\"population\",\"population\",\"population\",\"population\",\"population\",\"population\",\"population\",\"population\",\"population\",\"population\",\"population\",\"population\",\"population\",\"population\",\"population\",\"population\",\"population\",\"population\",\"population\",\"population\",\"population\",\"population\",\"population\",\"population\",\"population\",\"population\",\"population\",\"population\",\"population\",\"population\",\"population\",\"population\",\"population\",\"population\",\"population\",\"population\",\"population\",\"population\",\"population\",\"population\",\"population\",\"population\",\"population\",\"population\",\"population\",\"population\",\"population\",\"population\",\"population\",\"population\",\"population\",\"population\",\"population\",\"population\",\"population\",\"population\",\"population\",\"population\",\"population\",\"population\",\"population\",\"population\",\"population\",\"population\",\"population\",\"population\",\"population\",\"population\",\"population\",\"population\",\"population\",\"population\",\"population\",\"population\",\"population\",\"population\",\"population\",\"population\",\"population\",\"population\",\"population\",\"population\",\"population\",\"population\",\"population\",\"population\",\"population\",\"population\",\"population\",\"population\",\"population\",\"population\",\"population\",\"population\",\"population\",\"population\",\"population\",\"population\",\"population\",\"population\",\"population\",\"population\",\"population\",\"population\",\"population\",\"population\",\"population\",\"population\",\"population\",\"population\",\"population\",\"population\",\"population\",\"population\",\"population\",\"population\",\"population\",\"population\",\"population\",\"population\",\"population\",\"population\",\"population\",\"population\",\"population\",\"population\",\"population\",\"population\",\"population\",\"population\",\"population\",\"population\",\"population\",\"population\",\"population\",\"population\",\"population\",\"population\",\"population\",\"population\",\"population\",\"population\",\"population\",\"population\",\"population\",\"population\",\"population\",\"population\",\"population\",\"population\",\"population\",\"population\",\"population\",\"population\",\"population\",\"population\",\"population\",\"population\",\"population\",\"population\",\"population\",\"population\",\"population\",\"population\",\"population\",\"population\",\"population\",\"population\",\"population\",\"population\",\"population\",\"population\",\"population\",\"population\",\"population\",\"population\",\"population\",\"population\",\"population\",\"population\",\"population\",\"population\",\"population\",\"population\",\"population\",\"population\",\"population\",\"population\",\"population\",\"population\",\"population\",\"population\",\"population\",\"population\",\"population\",\"population\",\"population\",\"population\",\"population\",\"population\",\"population\",\"population\",\"population\",\"population\",\"population\",\"population\",\"population\",\"population\",\"population\",\"population\",\"population\",\"population\",\"population\",\"population\",\"population\",\"population\",\"population\",\"population\",\"population\",\"population\",\"population\",\"population\",\"population\",\"population\",\"population\",\"population\",\"population\",\"population\",\"population\",\"population\",\"population\",\"population\",\"population\",\"population\",\"population\",\"population\",\"population\",\"population\",\"population\",\"population\",\"population\"],\"timestep\":[0,1,2,3,4,5,6,7,8,9,10,11,12,13,14,15,16,17,18,19,20,21,22,23,24,25,26,27,28,29,30,31,32,33,34,35,36,37,38,39,40,41,42,43,44,45,46,47,48,49,50,51,52,53,54,55,56,57,58,59,60,61,62,63,64,65,66,67,68,69,70,71,72,73,74,75,76,77,78,79,80,81,82,83,84,85,86,87,88,89,90,91,92,93,94,95,96,97,98,99,100,101,102,103,104,105,106,107,108,109,110,111,112,113,114,115,116,117,118,119,120,121,122,123,124,125,126,127,128,129,130,131,132,133,134,135,136,137,138,139,140,141,142,143,144,145,146,147,148,149,150,151,152,153,154,155,156,157,158,159,160,161,162,163,164,165,166,167,168,169,170,171,172,173,174,175,176,177,178,179,180,181,182,183,184,185,186,187,188,189,190,191,192,193,194,195,196,197,198,199,200,201,202,203,204,205,206,207,208,209,210,211,212,213,214,215,216,217,218,219,220,221,222,223,224,225,226,227,228,229,230,231,232,233,234,235,236,237,238,239,240,241,242,243,244,245,246,247,248,249,250,251,252,253,254,255,256,257,258,259,260,261,262,263,264,265,266,267,268,269,270,271,272,273,274,275,276,277,278,279,280,281,282,283,284,285,286,287,288,289,290,291,292,293,294,295,296,297,298,299,300,301,302,303,304,305,306,307,308,309,310,311,312,313,314,315,316,317,318,319,320,321,322,323,324,325,326,327,328,329,330,331,332,333,334,335,336,337,338,339,340,341,342,343,344,345,346,347,348,349,350,351,352,353,354,355,356,357,358,359,360,361,362,363,364,365,366,367,368,369,370,371,372,373,374,375,376,377,378,379,380,381,382,383,384,385,386,387,388,389,390,391,392,393,394,395,396,397,398,399,400],\"value\":[50,60,70,80,90,100,110,120,130,140,150,160,170,180,190,200,210,220,230,240,250,260,270,280,290,300,310,320,330,339,348,357,366,375,384,393,402,411,420,429,438,447,456,465,474,483,492,501,510,519,528,537,546,555,564,573,582,590,598,606,614,622,630,638,646,654,662,670,678,686,694,702,710,718,726,734,742,750,758,765,772,779,786,793,800,807,814,821,828,835,842,849,856,863,870,877,884,891,897,903,909,915,921,927,933,939,945,951,957,963,969,975,981,987,993,999,1005,1010,1015,1020,1025,1030,1035,1040,1045,1050,1055,1060,1065,1070,1075,1080,1085,1090,1095,1099,1103,1107,1111,1115,1119,1123,1127,1131,1135,1139,1143,1147,1151,1155,1159,1163,1167,1171,1174,1177,1180,1183,1186,1189,1192,1195,1198,1201,1204,1207,1210,1213,1216,1219,1222,1225,1228,1231,1233,1235,1237,1239,1241,1243,1245,1247,1249,1251,1253,1255,1257,1259,1261,1263,1265,1267,1269,1271,1273,1275,1276,1277,1278,1279,1280,1281,1282,1283,1284,1285,1286,1287,1288,1289,1290,1291,1292,1293,1294,1295,1296,1297,1298,1299,1300,1300,1300,1300,1300,1300,1300,1300,1300,1300,1300,1300,1300,1300,1300,1300,1300,1300,1300,1300,1300,1300,1300,1300,1300,1300,1300,1300,1300,1300,1300,1300,1300,1300,1300,1299,1298,1297,1296,1295,1294,1293,1292,1291,1290,1289,1288,1287,1286,1285,1284,1283,1282,1281,1280,1279,1278,1277,1276,1275,1274,1273,1272,1271,1270,1269,1268,1267,1266,1265,1264,1263,1262,1261,1260,1259,1258,1257,1256,1255,1254,1253,1252,1251,1250,1249,1248,1247,1246,1245,1244,1243,1241,1239,1237,1235,1233,1231,1229,1227,1225,1223,1221,1219,1217,1215,1213,1211,1209,1207,1205,1203,1201,1199,1197,1195,1193,1191,1189,1187,1185,1183,1181,1179,1177,1175,1173,1171,1169,1167,1165,1163,1161,1159,1157,1155,1153,1151,1150,1148,1147,1145,1144,1142,1141,1139,1138,1136,1135,1134,1132,1131,1130,1128,1127,1126,1125,1123,1122,1121,1120,1118,1117,1116,1115,1114,1113,1111,1110,1109,1108,1107,1106,1105,1104,1103,1102,1101,1100,1099,1098]},\"selected\":{\"id\":\"1375\"},\"selection_policy\":{\"id\":\"1389\"}},\"id\":\"1374\",\"type\":\"ColumnDataSource\"},{\"attributes\":{},\"id\":\"1369\",\"type\":\"UnionRenderers\"},{\"attributes\":{\"line_alpha\":0.1,\"line_color\":\"#1f77b3\",\"line_width\":2,\"x\":{\"field\":\"timestep\"},\"y\":{\"field\":\"value\"}},\"id\":\"1360\",\"type\":\"Line\"},{\"attributes\":{\"label\":{\"value\":\"population\"},\"renderers\":[{\"id\":\"1380\"}]},\"id\":\"1392\",\"type\":\"LegendItem\"},{\"attributes\":{\"click_policy\":\"mute\",\"items\":[{\"id\":\"1373\"},{\"id\":\"1392\"}],\"location\":[0,0],\"title\":\"Variable\"},\"id\":\"1372\",\"type\":\"Legend\"},{\"attributes\":{},\"id\":\"1357\",\"type\":\"Selection\"},{\"attributes\":{\"line_alpha\":0.2,\"line_color\":\"#1f77b3\",\"line_width\":2,\"x\":{\"field\":\"timestep\"},\"y\":{\"field\":\"value\"}},\"id\":\"1361\",\"type\":\"Line\"},{\"attributes\":{\"text\":\"\",\"text_color\":{\"value\":\"black\"},\"text_font_size\":{\"value\":\"12pt\"}},\"id\":\"1323\",\"type\":\"Title\"},{\"attributes\":{\"data\":{\"Variable\":[\"food\",\"food\",\"food\",\"food\",\"food\",\"food\",\"food\",\"food\",\"food\",\"food\",\"food\",\"food\",\"food\",\"food\",\"food\",\"food\",\"food\",\"food\",\"food\",\"food\",\"food\",\"food\",\"food\",\"food\",\"food\",\"food\",\"food\",\"food\",\"food\",\"food\",\"food\",\"food\",\"food\",\"food\",\"food\",\"food\",\"food\",\"food\",\"food\",\"food\",\"food\",\"food\",\"food\",\"food\",\"food\",\"food\",\"food\",\"food\",\"food\",\"food\",\"food\",\"food\",\"food\",\"food\",\"food\",\"food\",\"food\",\"food\",\"food\",\"food\",\"food\",\"food\",\"food\",\"food\",\"food\",\"food\",\"food\",\"food\",\"food\",\"food\",\"food\",\"food\",\"food\",\"food\",\"food\",\"food\",\"food\",\"food\",\"food\",\"food\",\"food\",\"food\",\"food\",\"food\",\"food\",\"food\",\"food\",\"food\",\"food\",\"food\",\"food\",\"food\",\"food\",\"food\",\"food\",\"food\",\"food\",\"food\",\"food\",\"food\",\"food\",\"food\",\"food\",\"food\",\"food\",\"food\",\"food\",\"food\",\"food\",\"food\",\"food\",\"food\",\"food\",\"food\",\"food\",\"food\",\"food\",\"food\",\"food\",\"food\",\"food\",\"food\",\"food\",\"food\",\"food\",\"food\",\"food\",\"food\",\"food\",\"food\",\"food\",\"food\",\"food\",\"food\",\"food\",\"food\",\"food\",\"food\",\"food\",\"food\",\"food\",\"food\",\"food\",\"food\",\"food\",\"food\",\"food\",\"food\",\"food\",\"food\",\"food\",\"food\",\"food\",\"food\",\"food\",\"food\",\"food\",\"food\",\"food\",\"food\",\"food\",\"food\",\"food\",\"food\",\"food\",\"food\",\"food\",\"food\",\"food\",\"food\",\"food\",\"food\",\"food\",\"food\",\"food\",\"food\",\"food\",\"food\",\"food\",\"food\",\"food\",\"food\",\"food\",\"food\",\"food\",\"food\",\"food\",\"food\",\"food\",\"food\",\"food\",\"food\",\"food\",\"food\",\"food\",\"food\",\"food\",\"food\",\"food\",\"food\",\"food\",\"food\",\"food\",\"food\",\"food\",\"food\",\"food\",\"food\",\"food\",\"food\",\"food\",\"food\",\"food\",\"food\",\"food\",\"food\",\"food\",\"food\",\"food\",\"food\",\"food\",\"food\",\"food\",\"food\",\"food\",\"food\",\"food\",\"food\",\"food\",\"food\",\"food\",\"food\",\"food\",\"food\",\"food\",\"food\",\"food\",\"food\",\"food\",\"food\",\"food\",\"food\",\"food\",\"food\",\"food\",\"food\",\"food\",\"food\",\"food\",\"food\",\"food\",\"food\",\"food\",\"food\",\"food\",\"food\",\"food\",\"food\",\"food\",\"food\",\"food\",\"food\",\"food\",\"food\",\"food\",\"food\",\"food\",\"food\",\"food\",\"food\",\"food\",\"food\",\"food\",\"food\",\"food\",\"food\",\"food\",\"food\",\"food\",\"food\",\"food\",\"food\",\"food\",\"food\",\"food\",\"food\",\"food\",\"food\",\"food\",\"food\",\"food\",\"food\",\"food\",\"food\",\"food\",\"food\",\"food\",\"food\",\"food\",\"food\",\"food\",\"food\",\"food\",\"food\",\"food\",\"food\",\"food\",\"food\",\"food\",\"food\",\"food\",\"food\",\"food\",\"food\",\"food\",\"food\",\"food\",\"food\",\"food\",\"food\",\"food\",\"food\",\"food\",\"food\",\"food\",\"food\",\"food\",\"food\",\"food\",\"food\",\"food\",\"food\",\"food\",\"food\",\"food\",\"food\",\"food\",\"food\",\"food\",\"food\",\"food\",\"food\",\"food\",\"food\",\"food\",\"food\",\"food\",\"food\",\"food\",\"food\",\"food\",\"food\",\"food\",\"food\",\"food\",\"food\",\"food\",\"food\",\"food\",\"food\",\"food\",\"food\",\"food\",\"food\",\"food\",\"food\",\"food\",\"food\",\"food\",\"food\",\"food\",\"food\",\"food\",\"food\",\"food\",\"food\",\"food\",\"food\",\"food\",\"food\",\"food\",\"food\",\"food\",\"food\",\"food\",\"food\",\"food\",\"food\",\"food\",\"food\",\"food\",\"food\",\"food\",\"food\",\"food\",\"food\",\"food\",\"food\",\"food\",\"food\",\"food\"],\"timestep\":[0,1,2,3,4,5,6,7,8,9,10,11,12,13,14,15,16,17,18,19,20,21,22,23,24,25,26,27,28,29,30,31,32,33,34,35,36,37,38,39,40,41,42,43,44,45,46,47,48,49,50,51,52,53,54,55,56,57,58,59,60,61,62,63,64,65,66,67,68,69,70,71,72,73,74,75,76,77,78,79,80,81,82,83,84,85,86,87,88,89,90,91,92,93,94,95,96,97,98,99,100,101,102,103,104,105,106,107,108,109,110,111,112,113,114,115,116,117,118,119,120,121,122,123,124,125,126,127,128,129,130,131,132,133,134,135,136,137,138,139,140,141,142,143,144,145,146,147,148,149,150,151,152,153,154,155,156,157,158,159,160,161,162,163,164,165,166,167,168,169,170,171,172,173,174,175,176,177,178,179,180,181,182,183,184,185,186,187,188,189,190,191,192,193,194,195,196,197,198,199,200,201,202,203,204,205,206,207,208,209,210,211,212,213,214,215,216,217,218,219,220,221,222,223,224,225,226,227,228,229,230,231,232,233,234,235,236,237,238,239,240,241,242,243,244,245,246,247,248,249,250,251,252,253,254,255,256,257,258,259,260,261,262,263,264,265,266,267,268,269,270,271,272,273,274,275,276,277,278,279,280,281,282,283,284,285,286,287,288,289,290,291,292,293,294,295,296,297,298,299,300,301,302,303,304,305,306,307,308,309,310,311,312,313,314,315,316,317,318,319,320,321,322,323,324,325,326,327,328,329,330,331,332,333,334,335,336,337,338,339,340,341,342,343,344,345,346,347,348,349,350,351,352,353,354,355,356,357,358,359,360,361,362,363,364,365,366,367,368,369,370,371,372,373,374,375,376,377,378,379,380,381,382,383,384,385,386,387,388,389,390,391,392,393,394,395,396,397,398,399,400],\"value\":{\"__ndarray__\":\"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\",\"dtype\":\"float64\",\"order\":\"little\",\"shape\":[401]}},\"selected\":{\"id\":\"1357\"},\"selection_policy\":{\"id\":\"1369\"}},\"id\":\"1356\",\"type\":\"ColumnDataSource\"},{\"attributes\":{\"bottom_units\":\"screen\",\"fill_alpha\":0.5,\"fill_color\":\"lightgrey\",\"left_units\":\"screen\",\"level\":\"overlay\",\"line_alpha\":1.0,\"line_color\":\"black\",\"line_dash\":[4,4],\"line_width\":2,\"right_units\":\"screen\",\"top_units\":\"screen\"},\"id\":\"1344\",\"type\":\"BoxAnnotation\"},{\"attributes\":{},\"id\":\"1329\",\"type\":\"LinearScale\"},{\"attributes\":{\"end\":1644.6919999999998,\"reset_end\":1644.6919999999998,\"reset_start\":-94.97199999999998,\"start\":-94.97199999999998,\"tags\":[[[\"value\",\"value\",null]]]},\"id\":\"1319\",\"type\":\"Range1d\"},{\"attributes\":{\"below\":[{\"id\":\"1331\"}],\"center\":[{\"id\":\"1334\"},{\"id\":\"1338\"}],\"left\":[{\"id\":\"1335\"}],\"margin\":[5,5,5,5],\"min_border_bottom\":10,\"min_border_left\":10,\"min_border_right\":10,\"min_border_top\":10,\"plot_height\":300,\"plot_width\":700,\"renderers\":[{\"id\":\"1362\"},{\"id\":\"1380\"}],\"right\":[{\"id\":\"1372\"}],\"sizing_mode\":\"fixed\",\"title\":{\"id\":\"1323\"},\"toolbar\":{\"id\":\"1345\"},\"x_range\":{\"id\":\"1318\"},\"x_scale\":{\"id\":\"1327\"},\"y_range\":{\"id\":\"1319\"},\"y_scale\":{\"id\":\"1329\"}},\"id\":\"1322\",\"subtype\":\"Figure\",\"type\":\"Plot\"},{\"attributes\":{\"callback\":null,\"renderers\":[{\"id\":\"1362\"},{\"id\":\"1380\"}],\"tags\":[\"hv_created\"],\"tooltips\":[[\"Variable\",\"@{Variable}\"],[\"timestep\",\"@{timestep}\"],[\"value\",\"@{value}\"]]},\"id\":\"1320\",\"type\":\"HoverTool\"},{\"attributes\":{\"children\":[{\"id\":\"1317\"},{\"id\":\"1322\"},{\"id\":\"1483\"}],\"margin\":[0,0,0,0],\"name\":\"Row02106\",\"tags\":[\"embedded\"]},\"id\":\"1316\",\"type\":\"Row\"},{\"attributes\":{\"axis\":{\"id\":\"1331\"},\"grid_line_color\":null,\"ticker\":null},\"id\":\"1334\",\"type\":\"Grid\"},{\"attributes\":{},\"id\":\"1340\",\"type\":\"PanTool\"},{\"attributes\":{\"overlay\":{\"id\":\"1344\"}},\"id\":\"1342\",\"type\":\"BoxZoomTool\"},{\"attributes\":{},\"id\":\"1327\",\"type\":\"LinearScale\"},{\"attributes\":{},\"id\":\"1336\",\"type\":\"BasicTicker\"},{\"attributes\":{\"end\":400.0,\"reset_end\":400.0,\"reset_start\":0.0,\"tags\":[[[\"timestep\",\"timestep\",null]]]},\"id\":\"1318\",\"type\":\"Range1d\"},{\"attributes\":{\"axis\":{\"id\":\"1335\"},\"dimension\":1,\"grid_line_color\":null,\"ticker\":null},\"id\":\"1338\",\"type\":\"Grid\"},{\"attributes\":{\"axis_label\":\"\",\"bounds\":\"auto\",\"formatter\":{\"id\":\"1355\"},\"major_label_orientation\":\"horizontal\",\"ticker\":{\"id\":\"1336\"}},\"id\":\"1335\",\"type\":\"LinearAxis\"},{\"attributes\":{\"data_source\":{\"id\":\"1356\"},\"glyph\":{\"id\":\"1359\"},\"hover_glyph\":null,\"muted_glyph\":{\"id\":\"1361\"},\"nonselection_glyph\":{\"id\":\"1360\"},\"selection_glyph\":null,\"view\":{\"id\":\"1363\"}},\"id\":\"1362\",\"type\":\"GlyphRenderer\"},{\"attributes\":{\"margin\":[5,5,5,5],\"name\":\"HSpacer02110\",\"sizing_mode\":\"stretch_width\"},\"id\":\"1317\",\"type\":\"Spacer\"},{\"attributes\":{},\"id\":\"1355\",\"type\":\"BasicTickFormatter\"},{\"attributes\":{\"axis_label\":\"timestep\",\"bounds\":\"auto\",\"formatter\":{\"id\":\"1353\"},\"major_label_orientation\":\"horizontal\",\"ticker\":{\"id\":\"1332\"}},\"id\":\"1331\",\"type\":\"LinearAxis\"},{\"attributes\":{},\"id\":\"1341\",\"type\":\"WheelZoomTool\"},{\"attributes\":{},\"id\":\"1339\",\"type\":\"SaveTool\"},{\"attributes\":{\"active_drag\":\"auto\",\"active_inspect\":\"auto\",\"active_multi\":null,\"active_scroll\":\"auto\",\"active_tap\":\"auto\",\"tools\":[{\"id\":\"1320\"},{\"id\":\"1339\"},{\"id\":\"1340\"},{\"id\":\"1341\"},{\"id\":\"1342\"},{\"id\":\"1343\"}]},\"id\":\"1345\",\"type\":\"Toolbar\"}],\"root_ids\":[\"1316\"]},\"title\":\"Bokeh Application\",\"version\":\"2.2.3\"}};\n",
       "    var render_items = [{\"docid\":\"dda592d0-3b54-4481-9e2d-2befd50dea56\",\"root_ids\":[\"1316\"],\"roots\":{\"1316\":\"c1c71e7e-dc44-4ead-9f5c-4d75843b76b4\"}}];\n",
       "    root.Bokeh.embed.embed_items_notebook(docs_json, render_items);\n",
       "  }\n",
       "  if (root.Bokeh !== undefined && root.Bokeh.Panel !== undefined) {\n",
       "    embed_document(root);\n",
       "  } else {\n",
       "    var attempts = 0;\n",
       "    var timer = setInterval(function(root) {\n",
       "      if (root.Bokeh !== undefined && root.Bokeh.Panel !== undefined) {\n",
       "        clearInterval(timer);\n",
       "        embed_document(root);\n",
       "      } else if (document.readyState == \"complete\") {\n",
       "        attempts++;\n",
       "        if (attempts > 100) {\n",
       "          clearInterval(timer);\n",
       "          console.log(\"Bokeh: ERROR: Unable to run BokehJS code because BokehJS library is missing\");\n",
       "        }\n",
       "      }\n",
       "    }, 10, root)\n",
       "  }\n",
       "})(window);</script>"
      ],
      "text/plain": [
       ":NdOverlay   [Variable]\n",
       "   :Curve   [timestep]   (value)"
      ]
     },
     "execution_count": 25,
     "metadata": {
      "application/vnd.holoviews_exec.v0+json": {
       "id": "1316"
      }
     },
     "output_type": "execute_result"
    }
   ],
   "source": [
    "diff_df.hvplot(kind='line', x='timestep', y=['food', 'population'])"
   ]
  },
  {
   "cell_type": "code",
   "execution_count": 24,
   "metadata": {},
   "outputs": [
    {
     "data": {},
     "metadata": {},
     "output_type": "display_data"
    },
    {
     "data": {
      "application/vnd.holoviews_exec.v0+json": "",
      "text/html": [
       "<div id='1211'>\n",
       "\n",
       "\n",
       "\n",
       "\n",
       "\n",
       "  <div class=\"bk-root\" id=\"6bfdfed5-eb5f-4cb4-84e8-8716312bc6f9\" data-root-id=\"1211\"></div>\n",
       "</div>\n",
       "<script type=\"application/javascript\">(function(root) {\n",
       "  function embed_document(root) {\n",
       "    var docs_json = {\"7600ca40-031f-4ed6-8e48-0f692b3872d4\":{\"roots\":{\"references\":[{\"attributes\":{},\"id\":\"1233\",\"type\":\"SaveTool\"},{\"attributes\":{},\"id\":\"1235\",\"type\":\"WheelZoomTool\"},{\"attributes\":{},\"id\":\"1237\",\"type\":\"ResetTool\"},{\"attributes\":{},\"id\":\"1247\",\"type\":\"Selection\"},{\"attributes\":{\"bottom_units\":\"screen\",\"fill_alpha\":0.5,\"fill_color\":\"lightgrey\",\"left_units\":\"screen\",\"level\":\"overlay\",\"line_alpha\":1.0,\"line_color\":\"black\",\"line_dash\":[4,4],\"line_width\":2,\"right_units\":\"screen\",\"top_units\":\"screen\"},\"id\":\"1238\",\"type\":\"BoxAnnotation\"},{\"attributes\":{\"overlay\":{\"id\":\"1238\"}},\"id\":\"1236\",\"type\":\"BoxZoomTool\"},{\"attributes\":{\"line_color\":\"#1f77b3\",\"line_width\":2,\"x\":{\"field\":\"timestep\"},\"y\":{\"field\":\"food_diff\"}},\"id\":\"1249\",\"type\":\"Line\"},{\"attributes\":{\"callback\":null,\"renderers\":[{\"id\":\"1252\"}],\"tags\":[\"hv_created\"],\"tooltips\":[[\"timestep\",\"@{timestep}\"],[\"food_diff\",\"@{food_diff}\"]]},\"id\":\"1215\",\"type\":\"HoverTool\"},{\"attributes\":{\"data_source\":{\"id\":\"1246\"},\"glyph\":{\"id\":\"1249\"},\"hover_glyph\":null,\"muted_glyph\":{\"id\":\"1251\"},\"nonselection_glyph\":{\"id\":\"1250\"},\"selection_glyph\":null,\"view\":{\"id\":\"1253\"}},\"id\":\"1252\",\"type\":\"GlyphRenderer\"},{\"attributes\":{},\"id\":\"1223\",\"type\":\"LinearScale\"},{\"attributes\":{},\"id\":\"1234\",\"type\":\"PanTool\"},{\"attributes\":{\"active_drag\":\"auto\",\"active_inspect\":\"auto\",\"active_multi\":null,\"active_scroll\":\"auto\",\"active_tap\":\"auto\",\"tools\":[{\"id\":\"1215\"},{\"id\":\"1233\"},{\"id\":\"1234\"},{\"id\":\"1235\"},{\"id\":\"1236\"},{\"id\":\"1237\"}]},\"id\":\"1239\",\"type\":\"Toolbar\"},{\"attributes\":{\"line_alpha\":0.2,\"line_color\":\"#1f77b3\",\"line_width\":2,\"x\":{\"field\":\"timestep\"},\"y\":{\"field\":\"food_diff\"}},\"id\":\"1251\",\"type\":\"Line\"},{\"attributes\":{\"source\":{\"id\":\"1246\"}},\"id\":\"1253\",\"type\":\"CDSView\"},{\"attributes\":{},\"id\":\"1263\",\"type\":\"UnionRenderers\"},{\"attributes\":{},\"id\":\"1230\",\"type\":\"BasicTicker\"},{\"attributes\":{\"axis_label\":\"food_diff\",\"bounds\":\"auto\",\"formatter\":{\"id\":\"1257\"},\"major_label_orientation\":\"horizontal\",\"ticker\":{\"id\":\"1230\"}},\"id\":\"1229\",\"type\":\"LinearAxis\"},{\"attributes\":{},\"id\":\"1221\",\"type\":\"LinearScale\"},{\"attributes\":{},\"id\":\"1255\",\"type\":\"BasicTickFormatter\"},{\"attributes\":{},\"id\":\"1257\",\"type\":\"BasicTickFormatter\"},{\"attributes\":{\"data\":{\"food_diff\":{\"__ndarray__\":\"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\",\"dtype\":\"float64\",\"order\":\"little\",\"shape\":[401]},\"timestep\":[0,1,2,3,4,5,6,7,8,9,10,11,12,13,14,15,16,17,18,19,20,21,22,23,24,25,26,27,28,29,30,31,32,33,34,35,36,37,38,39,40,41,42,43,44,45,46,47,48,49,50,51,52,53,54,55,56,57,58,59,60,61,62,63,64,65,66,67,68,69,70,71,72,73,74,75,76,77,78,79,80,81,82,83,84,85,86,87,88,89,90,91,92,93,94,95,96,97,98,99,100,101,102,103,104,105,106,107,108,109,110,111,112,113,114,115,116,117,118,119,120,121,122,123,124,125,126,127,128,129,130,131,132,133,134,135,136,137,138,139,140,141,142,143,144,145,146,147,148,149,150,151,152,153,154,155,156,157,158,159,160,161,162,163,164,165,166,167,168,169,170,171,172,173,174,175,176,177,178,179,180,181,182,183,184,185,186,187,188,189,190,191,192,193,194,195,196,197,198,199,200,201,202,203,204,205,206,207,208,209,210,211,212,213,214,215,216,217,218,219,220,221,222,223,224,225,226,227,228,229,230,231,232,233,234,235,236,237,238,239,240,241,242,243,244,245,246,247,248,249,250,251,252,253,254,255,256,257,258,259,260,261,262,263,264,265,266,267,268,269,270,271,272,273,274,275,276,277,278,279,280,281,282,283,284,285,286,287,288,289,290,291,292,293,294,295,296,297,298,299,300,301,302,303,304,305,306,307,308,309,310,311,312,313,314,315,316,317,318,319,320,321,322,323,324,325,326,327,328,329,330,331,332,333,334,335,336,337,338,339,340,341,342,343,344,345,346,347,348,349,350,351,352,353,354,355,356,357,358,359,360,361,362,363,364,365,366,367,368,369,370,371,372,373,374,375,376,377,378,379,380,381,382,383,384,385,386,387,388,389,390,391,392,393,394,395,396,397,398,399,400]},\"selected\":{\"id\":\"1247\"},\"selection_policy\":{\"id\":\"1263\"}},\"id\":\"1246\",\"type\":\"ColumnDataSource\"},{\"attributes\":{\"axis\":{\"id\":\"1225\"},\"grid_line_color\":null,\"ticker\":null},\"id\":\"1228\",\"type\":\"Grid\"},{\"attributes\":{\"end\":10.75,\"reset_end\":10.75,\"reset_start\":-4.25,\"start\":-4.25,\"tags\":[[[\"food_diff\",\"food_diff\",null]]]},\"id\":\"1214\",\"type\":\"Range1d\"},{\"attributes\":{\"end\":400.0,\"reset_end\":400.0,\"reset_start\":0.0,\"tags\":[[[\"timestep\",\"timestep\",null]]]},\"id\":\"1213\",\"type\":\"Range1d\"},{\"attributes\":{\"margin\":[5,5,5,5],\"name\":\"HSpacer01903\",\"sizing_mode\":\"stretch_width\"},\"id\":\"1212\",\"type\":\"Spacer\"},{\"attributes\":{\"margin\":[5,5,5,5],\"name\":\"HSpacer01904\",\"sizing_mode\":\"stretch_width\"},\"id\":\"1274\",\"type\":\"Spacer\"},{\"attributes\":{},\"id\":\"1226\",\"type\":\"BasicTicker\"},{\"attributes\":{\"children\":[{\"id\":\"1212\"},{\"id\":\"1216\"},{\"id\":\"1274\"}],\"margin\":[0,0,0,0],\"name\":\"Row01899\",\"tags\":[\"embedded\"]},\"id\":\"1211\",\"type\":\"Row\"},{\"attributes\":{\"line_alpha\":0.1,\"line_color\":\"#1f77b3\",\"line_width\":2,\"x\":{\"field\":\"timestep\"},\"y\":{\"field\":\"food_diff\"}},\"id\":\"1250\",\"type\":\"Line\"},{\"attributes\":{\"text\":\"\",\"text_color\":{\"value\":\"black\"},\"text_font_size\":{\"value\":\"12pt\"}},\"id\":\"1217\",\"type\":\"Title\"},{\"attributes\":{\"below\":[{\"id\":\"1225\"}],\"center\":[{\"id\":\"1228\"},{\"id\":\"1232\"}],\"left\":[{\"id\":\"1229\"}],\"margin\":[5,5,5,5],\"min_border_bottom\":10,\"min_border_left\":10,\"min_border_right\":10,\"min_border_top\":10,\"plot_height\":300,\"plot_width\":700,\"renderers\":[{\"id\":\"1252\"}],\"sizing_mode\":\"fixed\",\"title\":{\"id\":\"1217\"},\"toolbar\":{\"id\":\"1239\"},\"x_range\":{\"id\":\"1213\"},\"x_scale\":{\"id\":\"1221\"},\"y_range\":{\"id\":\"1214\"},\"y_scale\":{\"id\":\"1223\"}},\"id\":\"1216\",\"subtype\":\"Figure\",\"type\":\"Plot\"},{\"attributes\":{\"axis\":{\"id\":\"1229\"},\"dimension\":1,\"grid_line_color\":null,\"ticker\":null},\"id\":\"1232\",\"type\":\"Grid\"},{\"attributes\":{\"axis_label\":\"timestep\",\"bounds\":\"auto\",\"formatter\":{\"id\":\"1255\"},\"major_label_orientation\":\"horizontal\",\"ticker\":{\"id\":\"1226\"}},\"id\":\"1225\",\"type\":\"LinearAxis\"}],\"root_ids\":[\"1211\"]},\"title\":\"Bokeh Application\",\"version\":\"2.2.3\"}};\n",
       "    var render_items = [{\"docid\":\"7600ca40-031f-4ed6-8e48-0f692b3872d4\",\"root_ids\":[\"1211\"],\"roots\":{\"1211\":\"6bfdfed5-eb5f-4cb4-84e8-8716312bc6f9\"}}];\n",
       "    root.Bokeh.embed.embed_items_notebook(docs_json, render_items);\n",
       "  }\n",
       "  if (root.Bokeh !== undefined && root.Bokeh.Panel !== undefined) {\n",
       "    embed_document(root);\n",
       "  } else {\n",
       "    var attempts = 0;\n",
       "    var timer = setInterval(function(root) {\n",
       "      if (root.Bokeh !== undefined && root.Bokeh.Panel !== undefined) {\n",
       "        clearInterval(timer);\n",
       "        embed_document(root);\n",
       "      } else if (document.readyState == \"complete\") {\n",
       "        attempts++;\n",
       "        if (attempts > 100) {\n",
       "          clearInterval(timer);\n",
       "          console.log(\"Bokeh: ERROR: Unable to run BokehJS code because BokehJS library is missing\");\n",
       "        }\n",
       "      }\n",
       "    }, 10, root)\n",
       "  }\n",
       "})(window);</script>"
      ],
      "text/plain": [
       ":Curve   [timestep]   (food_diff)"
      ]
     },
     "execution_count": 24,
     "metadata": {
      "application/vnd.holoviews_exec.v0+json": {
       "id": "1211"
      }
     },
     "output_type": "execute_result"
    }
   ],
   "source": [
    "import hvplot.pandas\n",
    "diff_df.hvplot(kind='line', x='timestep', y=['food_diff'])"
   ]
  },
  {
   "cell_type": "markdown",
   "metadata": {},
   "source": [
    "### 4. What does the above plot tell you about the food growth over time? (Hint: the value was the **rate of change** of the food supply)"
   ]
  },
  {
   "cell_type": "markdown",
   "metadata": {},
   "source": [
    "The growth is anti-accelerating for the first 240 timesteps, and then starts to accelerate again."
   ]
  },
  {
   "cell_type": "markdown",
   "metadata": {},
   "source": [
    "<br/><br/><br/>\n",
    "# Well done!\n",
    "<br/><br/><br/><br/>"
   ]
  }
 ],
 "metadata": {
  "kernelspec": {
   "display_name": "Python 3",
   "language": "python",
   "name": "python3"
  },
  "language_info": {
   "codemirror_mode": {
    "name": "ipython",
    "version": 3
   },
   "file_extension": ".py",
   "mimetype": "text/x-python",
   "name": "python",
   "nbconvert_exporter": "python",
   "pygments_lexer": "ipython3",
   "version": "3.8.6"
  }
 },
 "nbformat": 4,
 "nbformat_minor": 4
}
