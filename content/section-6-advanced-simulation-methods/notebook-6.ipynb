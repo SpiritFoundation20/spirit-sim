{
 "cells": [
  {
   "cell_type": "markdown",
   "metadata": {},
   "source": [
    "<span style=\"display:block;text-align:center;margin-right:105px\"><img src=\"../../media/logos/logo-vertical.png\" width=\"200\"/></span>"
   ]
  },
  {
   "cell_type": "markdown",
   "metadata": {},
   "source": [
    "# Section 6: Advanced Simulation Methods\n",
    "\n",
    "---"
   ]
  },
  {
   "cell_type": "markdown",
   "metadata": {},
   "source": [
    "## Table of Contents\n",
    "* [cadCAD Simulation Methods](#cadCAD-Simulation-Methods)\n",
    "  1. [Monte Carlo Method](#1.-Monte-Carlo-Method)\n",
    "  2. [Parameter Sweeps](#2.-Parameter-Sweeps)\n",
    "  3. [A/B Testing](#3.-A/B-Testing)\n",
    "* [cadCAD Simulation Methods Overview](#cadCAD-Simulation-Methods-Overview)\n",
    "* [Data Manipulation & Analysis](#Data-Manipulation-&-Analysis)"
   ]
  },
  {
   "cell_type": "markdown",
   "metadata": {},
   "source": [
    "---"
   ]
  },
  {
   "cell_type": "markdown",
   "metadata": {},
   "source": [
    "\\begin{align}\n",
    "\\large population_t &\\large= population_{t-1} + {\\Delta population} \\quad \\textrm{(sheep)} \\tag{1} \\\\\n",
    "\\large food_t &\\large= food_{t-1} + {\\Delta food} \\quad \\textrm{(tons of grass)} \\tag{2}\n",
    "\\end{align}\n",
    "\n",
    "where the rate of change ($\\Delta$) is:\n",
    "\\begin{align}\n",
    "\\large {\\Delta population} &\\large= \\alpha * food_{t-1} - \\epsilon * population_{t-1} \\quad \\textrm{(sheep/month)} \\\\\n",
    "\\large {\\Delta food} &\\large= -\\beta * population_{t-1} + \\gamma \\quad \\textrm{(tons of grass/month)}\n",
    "\\end{align}\n",
    "\n",
    "where:\n",
    "\n",
    "$\n",
    "\\begin{align}\n",
    "\\alpha: \\quad &\\textrm{'reproduction_rate'}\\\\\n",
    "\\epsilon: \\quad &\\textrm{'death_rate'}\\\\\n",
    "\\beta: \\quad &\\textrm{'consumption_rate'}\\\\\n",
    "\\gamma: \\quad &\\textrm{'growth_rate'}\\\\\n",
    "\\end{align}\n",
    "$\n",
    "\n",
    "* A population consumes a food source, and reproduces at a rate proportional to the food source $\\alpha$ (alpha), and dies at a rate proportional to the population size $\\epsilon$ (epsilon).\n",
    "* The food source is consumed at a rate proportional to the population $\\beta$ (beta), and grows at a constant rate $\\gamma$ (gamma)."
   ]
  },
  {
   "cell_type": "markdown",
   "metadata": {},
   "source": [
    "<center>\n",
    "<img src=\"./images/s6-differential-spec-ecosystem-final.png\"\n",
    "     alt=\"Diff spec\"\n",
    "     style=\"width: 60%\" />\n",
    "</center>"
   ]
  },
  {
   "cell_type": "markdown",
   "metadata": {},
   "source": [
    "Import and run the existing ecosystem model code from section 5:"
   ]
  },
  {
   "cell_type": "code",
   "execution_count": 1,
   "metadata": {},
   "outputs": [],
   "source": [
    "import math\n",
    "import pandas as pd\n",
    "import plotly\n",
    "\n",
    "pd.options.plotting.backend = \"plotly\"\n",
    "\n",
    "from cadCAD.configuration.utils import config_sim\n",
    "\n",
    "from cadCAD.engine import ExecutionMode, ExecutionContext\n",
    "from cadCAD.engine import Executor"
   ]
  },
  {
   "cell_type": "code",
   "execution_count": 2,
   "metadata": {},
   "outputs": [],
   "source": [
    "from cadCAD.configuration import Experiment\n",
    "\n",
    "from cadCAD import configs\n",
    "del configs[:] # Clear any prior configs\n",
    "\n",
    "experiment = Experiment()"
   ]
  },
  {
   "cell_type": "markdown",
   "metadata": {},
   "source": [
    "# cadCAD Simulation Methods\n",
    "\n",
    "1. [Monte Carlo Method](#1.-Monte-Carlo-Method)\n",
    "2. [Parameter Sweeps](#2.-Parameter-Sweeps)\n",
    "3. [A/B testing](#3.-A/B-Testing)"
   ]
  },
  {
   "cell_type": "markdown",
   "metadata": {},
   "source": [
    "## 1. Monte Carlo Method\n",
    "\n",
    "> Monte Carlo methods, or Monte Carlo experiments, are a broad class of computational algorithms that rely on repeated random sampling to obtain numerical results. The underlying concept is to use randomness to solve problems that might be deterministic in principle.\n",
    "\n",
    "Source: https://en.wikipedia.org/wiki/Monte_Carlo_method"
   ]
  },
  {
   "cell_type": "markdown",
   "metadata": {},
   "source": [
    "### Non-determinism\n",
    "\n",
    "> In computer science, a nondeterministic algorithm is an algorithm that, even for the same input, can exhibit different behaviors on different runs, as opposed to a deterministic algorithm.\n",
    "\n",
    "Source: https://en.wikipedia.org/wiki/Nondeterministic_algorithm"
   ]
  },
  {
   "cell_type": "markdown",
   "metadata": {},
   "source": [
    "\\begin{align}\n",
    "\\large {\\Delta food} &\\large= -\\beta * population_{t-1} + \\gamma * rand() \\quad \\textrm{(tons of grass/month)} \\\\\n",
    "\\end{align}\n",
    "\n",
    "\n",
    "* Addition of a random food growth rate, using `rand()`."
   ]
  },
  {
   "cell_type": "code",
   "execution_count": 3,
   "metadata": {},
   "outputs": [],
   "source": [
    "from numpy import random"
   ]
  },
  {
   "cell_type": "code",
   "execution_count": 4,
   "metadata": {},
   "outputs": [
    {
     "data": {
      "text/plain": [
       "0.02339445581349231"
      ]
     },
     "execution_count": 4,
     "metadata": {},
     "output_type": "execute_result"
    }
   ],
   "source": [
    "random.rand()"
   ]
  },
  {
   "cell_type": "code",
   "execution_count": 7,
   "metadata": {},
   "outputs": [],
   "source": [
    "# Setting a seed so that we can reproduce the experiment\n",
    "random.seed(1234)"
   ]
  },
  {
   "cell_type": "code",
   "execution_count": 10,
   "metadata": {},
   "outputs": [
    {
     "data": {
      "text/plain": [
       "[0.7799758081188035, 0.2725926052826416]"
      ]
     },
     "execution_count": 10,
     "metadata": {},
     "output_type": "execute_result"
    }
   ],
   "source": [
    "# With a given seed, generates a random number from a given set\n",
    "[\n",
    "    random.rand(),\n",
    "    random.rand()\n",
    "]"
   ]
  },
  {
   "cell_type": "code",
   "execution_count": 11,
   "metadata": {},
   "outputs": [
    {
     "data": {
      "text/plain": [
       "[0.1915194503788923, 0.6221087710398319]"
      ]
     },
     "execution_count": 11,
     "metadata": {},
     "output_type": "execute_result"
    }
   ],
   "source": [
    "random.seed(1234)\n",
    "[\n",
    "    random.rand(),\n",
    "    random.rand()\n",
    "]"
   ]
  },
  {
   "cell_type": "code",
   "execution_count": 12,
   "metadata": {},
   "outputs": [],
   "source": [
    "random.seed(None)"
   ]
  },
  {
   "cell_type": "code",
   "execution_count": 13,
   "metadata": {},
   "outputs": [],
   "source": [
    "seeds = [\n",
    "    random.RandomState(1),\n",
    "    random.RandomState(2),\n",
    "    random.RandomState(3),\n",
    "]"
   ]
  },
  {
   "cell_type": "code",
   "execution_count": 14,
   "metadata": {},
   "outputs": [
    {
     "data": {
      "text/plain": [
       "[0.417022004702574, 0.43599490214200376, 0.5507979025745755]"
      ]
     },
     "execution_count": 14,
     "metadata": {},
     "output_type": "execute_result"
    }
   ],
   "source": [
    "[\n",
    "    seeds[0].rand(),\n",
    "    seeds[1].rand(),\n",
    "    seeds[2].rand(),\n",
    "]"
   ]
  },
  {
   "cell_type": "code",
   "execution_count": 15,
   "metadata": {},
   "outputs": [
    {
     "data": {
      "text/plain": [
       "[RandomState(MT19937) at 0x7F329CCDE240,\n",
       " RandomState(MT19937) at 0x7F329CCDE340,\n",
       " RandomState(MT19937) at 0x7F329CCDE440]"
      ]
     },
     "execution_count": 15,
     "metadata": {},
     "output_type": "execute_result"
    }
   ],
   "source": [
    "MONTE_CARLO_RUNS = 3\n",
    "\n",
    "seeds = [random.RandomState(i) for i in range(MONTE_CARLO_RUNS)]\n",
    "seeds"
   ]
  },
  {
   "cell_type": "code",
   "execution_count": 16,
   "metadata": {},
   "outputs": [],
   "source": [
    "initial_state = {\n",
    "    'population': 50, # number of sheep\n",
    "    'food': 1000 # tons of grass\n",
    "}\n",
    "\n",
    "system_params = {\n",
    "    'reproduction_rate': [0.3],\n",
    "    'death_rate': [0.03],\n",
    "    'consumption_rate': [0.03],\n",
    "    'growth_rate': [30.0],\n",
    "}"
   ]
  },
  {
   "cell_type": "code",
   "execution_count": 17,
   "metadata": {},
   "outputs": [],
   "source": [
    "def s_population(params, substep, state_history, previous_state, policy_input):\n",
    "    population = previous_state['population'] + policy_input['delta_population'] \n",
    "    return 'population', max(math.ceil(population), 0)\n",
    "\n",
    "def s_food(params, substep, state_history, previous_state, policy_input):\n",
    "    food = previous_state['food'] + policy_input['delta_food']\n",
    "    return 'food', max(food, 0)"
   ]
  },
  {
   "cell_type": "code",
   "execution_count": 18,
   "metadata": {},
   "outputs": [],
   "source": [
    "def p_reproduction(params, substep, state_history, previous_state):\n",
    "    population_reproduction = params['reproduction_rate'] * previous_state['food']\n",
    "    return {'delta_population': population_reproduction}\n",
    "\n",
    "def p_death(params, substep, state_history, previous_state):\n",
    "    population_death = params['death_rate'] * previous_state['population']\n",
    "    return {'delta_population': -population_death}\n",
    "\n",
    "def p_growth(params, substep, state_history, previous_state):\n",
    "    run = previous_state['run']\n",
    "    food_growth = params['growth_rate'] * seeds[run - 1].rand()\n",
    "    return {'delta_food': food_growth}\n",
    "\n",
    "def p_consumption(params, substep, state_history, previous_state):\n",
    "    food_consumption = params['consumption_rate'] * previous_state['population']\n",
    "    return {'delta_food': -food_consumption}"
   ]
  },
  {
   "cell_type": "code",
   "execution_count": 19,
   "metadata": {},
   "outputs": [],
   "source": [
    "partial_state_update_blocks = [\n",
    "    {\n",
    "        'policies': {\n",
    "            'reproduction': p_reproduction,\n",
    "            'death': p_death,\n",
    "            'consumption': p_consumption,\n",
    "            'growth': p_growth\n",
    "        },\n",
    "        'variables': {\n",
    "            'population': s_population,\n",
    "            'food': s_food\n",
    "        }\n",
    "    }\n",
    "]"
   ]
  },
  {
   "cell_type": "code",
   "execution_count": 20,
   "metadata": {},
   "outputs": [],
   "source": [
    "SIMULATION_TIMESTEPS = 500"
   ]
  },
  {
   "cell_type": "code",
   "execution_count": 21,
   "metadata": {},
   "outputs": [],
   "source": [
    "sim_config = config_sim({\n",
    "    'N': MONTE_CARLO_RUNS,\n",
    "    'T': range(SIMULATION_TIMESTEPS),\n",
    "    'M': system_params\n",
    "})\n",
    "\n",
    "experiment.append_configs(\n",
    "    initial_state = initial_state,\n",
    "    partial_state_update_blocks = partial_state_update_blocks,\n",
    "    sim_configs = sim_config,\n",
    ")"
   ]
  },
  {
   "cell_type": "code",
   "execution_count": 22,
   "metadata": {},
   "outputs": [
    {
     "name": "stdout",
     "output_type": "stream",
     "text": [
      "\n",
      "                  ___________    ____\n",
      "  ________ __ ___/ / ____/   |  / __ \\\n",
      " / ___/ __` / __  / /   / /| | / / / /\n",
      "/ /__/ /_/ / /_/ / /___/ ___ |/ /_/ /\n",
      "\\___/\\__,_/\\__,_/\\____/_/  |_/_____/\n",
      "by cadCAD\n",
      "\n",
      "Execution Mode: local_proc\n",
      "Configuration Count: 1\n",
      "Dimensions of the first simulation: (Timesteps, Params, Runs, Vars) = (500, 4, 3, 2)\n",
      "Execution Method: local_simulations\n",
      "SimIDs   : [0, 0, 0]\n",
      "SubsetIDs: [0, 0, 0]\n",
      "Ns       : [0, 1, 2]\n",
      "ExpIDs   : [0, 0, 0]\n",
      "Execution Mode: parallelized\n",
      "Total execution time: 0.08s\n"
     ]
    }
   ],
   "source": [
    "exec_mode = ExecutionMode()\n",
    "exec_context = ExecutionContext()\n",
    "\n",
    "simulation = Executor(exec_context=exec_context, configs=configs)\n",
    "raw_result, tensor_field, sessions = simulation.execute()"
   ]
  },
  {
   "cell_type": "code",
   "execution_count": 23,
   "metadata": {},
   "outputs": [
    {
     "data": {
      "text/html": [
       "<div>\n",
       "<style scoped>\n",
       "    .dataframe tbody tr th:only-of-type {\n",
       "        vertical-align: middle;\n",
       "    }\n",
       "\n",
       "    .dataframe tbody tr th {\n",
       "        vertical-align: top;\n",
       "    }\n",
       "\n",
       "    .dataframe thead th {\n",
       "        text-align: right;\n",
       "    }\n",
       "</style>\n",
       "<table border=\"1\" class=\"dataframe\">\n",
       "  <thead>\n",
       "    <tr style=\"text-align: right;\">\n",
       "      <th></th>\n",
       "      <th>population</th>\n",
       "      <th>food</th>\n",
       "      <th>simulation</th>\n",
       "      <th>subset</th>\n",
       "      <th>run</th>\n",
       "      <th>substep</th>\n",
       "      <th>timestep</th>\n",
       "    </tr>\n",
       "  </thead>\n",
       "  <tbody>\n",
       "    <tr>\n",
       "      <th>0</th>\n",
       "      <td>50</td>\n",
       "      <td>1000.000000</td>\n",
       "      <td>0</td>\n",
       "      <td>0</td>\n",
       "      <td>1</td>\n",
       "      <td>0</td>\n",
       "      <td>0</td>\n",
       "    </tr>\n",
       "    <tr>\n",
       "      <th>1</th>\n",
       "      <td>349</td>\n",
       "      <td>1014.964405</td>\n",
       "      <td>0</td>\n",
       "      <td>0</td>\n",
       "      <td>1</td>\n",
       "      <td>1</td>\n",
       "      <td>1</td>\n",
       "    </tr>\n",
       "    <tr>\n",
       "      <th>2</th>\n",
       "      <td>644</td>\n",
       "      <td>1025.950086</td>\n",
       "      <td>0</td>\n",
       "      <td>0</td>\n",
       "      <td>1</td>\n",
       "      <td>1</td>\n",
       "      <td>2</td>\n",
       "    </tr>\n",
       "    <tr>\n",
       "      <th>3</th>\n",
       "      <td>933</td>\n",
       "      <td>1024.712987</td>\n",
       "      <td>0</td>\n",
       "      <td>0</td>\n",
       "      <td>1</td>\n",
       "      <td>1</td>\n",
       "      <td>3</td>\n",
       "    </tr>\n",
       "    <tr>\n",
       "      <th>4</th>\n",
       "      <td>1213</td>\n",
       "      <td>1013.069483</td>\n",
       "      <td>0</td>\n",
       "      <td>0</td>\n",
       "      <td>1</td>\n",
       "      <td>1</td>\n",
       "      <td>4</td>\n",
       "    </tr>\n",
       "    <tr>\n",
       "      <th>...</th>\n",
       "      <td>...</td>\n",
       "      <td>...</td>\n",
       "      <td>...</td>\n",
       "      <td>...</td>\n",
       "      <td>...</td>\n",
       "      <td>...</td>\n",
       "      <td>...</td>\n",
       "    </tr>\n",
       "    <tr>\n",
       "      <th>1498</th>\n",
       "      <td>649</td>\n",
       "      <td>88.611704</td>\n",
       "      <td>0</td>\n",
       "      <td>0</td>\n",
       "      <td>3</td>\n",
       "      <td>1</td>\n",
       "      <td>496</td>\n",
       "    </tr>\n",
       "    <tr>\n",
       "      <th>1499</th>\n",
       "      <td>657</td>\n",
       "      <td>70.673419</td>\n",
       "      <td>0</td>\n",
       "      <td>0</td>\n",
       "      <td>3</td>\n",
       "      <td>1</td>\n",
       "      <td>497</td>\n",
       "    </tr>\n",
       "    <tr>\n",
       "      <th>1500</th>\n",
       "      <td>659</td>\n",
       "      <td>70.872657</td>\n",
       "      <td>0</td>\n",
       "      <td>0</td>\n",
       "      <td>3</td>\n",
       "      <td>1</td>\n",
       "      <td>498</td>\n",
       "    </tr>\n",
       "    <tr>\n",
       "      <th>1501</th>\n",
       "      <td>661</td>\n",
       "      <td>62.072474</td>\n",
       "      <td>0</td>\n",
       "      <td>0</td>\n",
       "      <td>3</td>\n",
       "      <td>1</td>\n",
       "      <td>499</td>\n",
       "    </tr>\n",
       "    <tr>\n",
       "      <th>1502</th>\n",
       "      <td>660</td>\n",
       "      <td>58.825872</td>\n",
       "      <td>0</td>\n",
       "      <td>0</td>\n",
       "      <td>3</td>\n",
       "      <td>1</td>\n",
       "      <td>500</td>\n",
       "    </tr>\n",
       "  </tbody>\n",
       "</table>\n",
       "<p>1503 rows × 7 columns</p>\n",
       "</div>"
      ],
      "text/plain": [
       "      population         food  simulation  subset  run  substep  timestep\n",
       "0             50  1000.000000           0       0    1        0         0\n",
       "1            349  1014.964405           0       0    1        1         1\n",
       "2            644  1025.950086           0       0    1        1         2\n",
       "3            933  1024.712987           0       0    1        1         3\n",
       "4           1213  1013.069483           0       0    1        1         4\n",
       "...          ...          ...         ...     ...  ...      ...       ...\n",
       "1498         649    88.611704           0       0    3        1       496\n",
       "1499         657    70.673419           0       0    3        1       497\n",
       "1500         659    70.872657           0       0    3        1       498\n",
       "1501         661    62.072474           0       0    3        1       499\n",
       "1502         660    58.825872           0       0    3        1       500\n",
       "\n",
       "[1503 rows x 7 columns]"
      ]
     },
     "execution_count": 23,
     "metadata": {},
     "output_type": "execute_result"
    }
   ],
   "source": [
    "simulation_result = pd.DataFrame(raw_result)\n",
    "simulation_result"
   ]
  },
  {
   "cell_type": "code",
   "execution_count": null,
   "metadata": {},
   "outputs": [],
   "source": [
    "df = simulation_result.copy()\n",
    "df = df[df.simulation == 0]\n",
    "df"
   ]
  },
  {
   "cell_type": "code",
   "execution_count": null,
   "metadata": {},
   "outputs": [],
   "source": [
    "df[df.run == 1].head()"
   ]
  },
  {
   "cell_type": "code",
   "execution_count": null,
   "metadata": {},
   "outputs": [],
   "source": [
    "df[df.run == 2].head()"
   ]
  },
  {
   "cell_type": "code",
   "execution_count": null,
   "metadata": {},
   "outputs": [],
   "source": [
    "df[df.run == 3].head()"
   ]
  },
  {
   "cell_type": "markdown",
   "metadata": {},
   "source": [
    "### Simulation Analysis"
   ]
  },
  {
   "cell_type": "code",
   "execution_count": null,
   "metadata": {},
   "outputs": [],
   "source": [
    "import plotly.express as px\n",
    "\n",
    "px.line(df, x='timestep', y=['population', 'food'], facet_row='run', height=800, width=1000)"
   ]
  },
  {
   "cell_type": "markdown",
   "metadata": {},
   "source": [
    "## 2. Parameter Sweeps"
   ]
  },
  {
   "cell_type": "code",
   "execution_count": null,
   "metadata": {},
   "outputs": [],
   "source": [
    "dictionary = {\n",
    "    'reproduction_rate': [0.1, 0.2],\n",
    "    'death_rate': [0.01, 0.02]\n",
    "}\n",
    "dictionary['reproduction_rate'][0]"
   ]
  },
  {
   "cell_type": "code",
   "execution_count": null,
   "metadata": {},
   "outputs": [],
   "source": [
    "nested_dictionary = {\n",
    "    'population': [\n",
    "        {'reproduction_rate': 0.1, 'death_rate': 0.01},\n",
    "        {'reproduction_rate': 0.2, 'death_rate': 0.02},\n",
    "    ]\n",
    "}\n",
    "nested_dictionary['population'][0]['reproduction_rate']"
   ]
  },
  {
   "cell_type": "code",
   "execution_count": null,
   "metadata": {},
   "outputs": [],
   "source": [
    "initial_state = {\n",
    "    'population': 50, # number of sheep\n",
    "    'food': 1000 # tons of grass\n",
    "}\n",
    "\n",
    "system_params = {\n",
    "    'population': [\n",
    "        {'reproduction_rate': 0.1, 'death_rate': 0.01},\n",
    "        {'reproduction_rate': 0.2, 'death_rate': 0.02},\n",
    "        {'reproduction_rate': 0.3, 'death_rate': 0.03}\n",
    "    ],\n",
    "    'food': [\n",
    "        {'consumption_rate': 0.01, 'growth_rate': 10.0},\n",
    "        {'consumption_rate': 0.02, 'growth_rate': 20.0},\n",
    "        {'consumption_rate': 0.03, 'growth_rate': 30.0}\n",
    "    ]\n",
    "}"
   ]
  },
  {
   "cell_type": "code",
   "execution_count": null,
   "metadata": {},
   "outputs": [],
   "source": [
    "{\n",
    "    'population': system_params['population'][0],\n",
    "    'food': system_params['food'][0]\n",
    "}"
   ]
  },
  {
   "cell_type": "code",
   "execution_count": null,
   "metadata": {},
   "outputs": [],
   "source": [
    "{\n",
    "    'population': system_params['population'][1],\n",
    "    'food': system_params['food'][1]\n",
    "}"
   ]
  },
  {
   "cell_type": "code",
   "execution_count": null,
   "metadata": {},
   "outputs": [],
   "source": [
    "def s_population(params, substep, state_history, previous_state, policy_input):\n",
    "    population = previous_state['population'] + policy_input['delta_population'] \n",
    "    return 'population', max(math.ceil(population), 0)\n",
    "\n",
    "def s_food(params, substep, state_history, previous_state, policy_input):\n",
    "    food = previous_state['food'] + policy_input['delta_food']\n",
    "    return 'food', max(food, 0)"
   ]
  },
  {
   "cell_type": "code",
   "execution_count": null,
   "metadata": {},
   "outputs": [],
   "source": [
    "def p_reproduction(params, substep, state_history, previous_state):\n",
    "    population_reproduction = params['population']['reproduction_rate'] * previous_state['food']\n",
    "    return {'delta_population': population_reproduction}\n",
    "\n",
    "def p_death(params, substep, state_history, previous_state):\n",
    "    population_death = params['population']['death_rate'] * previous_state['population']\n",
    "    return {'delta_population': -population_death}\n",
    "\n",
    "def p_consumption(params, substep, state_history, previous_state):\n",
    "    food_consumption = params['food']['consumption_rate'] * previous_state['population']\n",
    "    return {'delta_food': -food_consumption}\n",
    "    \n",
    "def p_growth(params, substep, state_history, previous_state):\n",
    "    food_growth = params['food']['growth_rate']\n",
    "    return {'delta_food': food_growth}"
   ]
  },
  {
   "cell_type": "code",
   "execution_count": null,
   "metadata": {},
   "outputs": [],
   "source": [
    "partial_state_update_blocks = [\n",
    "    {\n",
    "        'policies': {\n",
    "            'reproduction': p_reproduction,\n",
    "            'death': p_death,\n",
    "            'consumption': p_consumption,\n",
    "            'growth': p_growth\n",
    "        },\n",
    "        'variables': {\n",
    "            'population': s_population,\n",
    "            'food': s_food\n",
    "        }\n",
    "    }\n",
    "]"
   ]
  },
  {
   "cell_type": "code",
   "execution_count": null,
   "metadata": {},
   "outputs": [],
   "source": [
    "MONTE_CARLO_RUNS = 1\n",
    "SIMULATION_TIMESTEPS = 500\n",
    "\n",
    "sim_config = config_sim({\n",
    "    'N': MONTE_CARLO_RUNS,\n",
    "    'T': range(SIMULATION_TIMESTEPS),\n",
    "    'M': system_params\n",
    "})"
   ]
  },
  {
   "cell_type": "code",
   "execution_count": null,
   "metadata": {},
   "outputs": [],
   "source": [
    "from pprint import pprint\n",
    "\n",
    "print('system_params')\n",
    "pprint(system_params)\n",
    "print(' ')\n",
    "print('sim_config')\n",
    "pprint(sim_config)"
   ]
  },
  {
   "cell_type": "code",
   "execution_count": null,
   "metadata": {},
   "outputs": [],
   "source": [
    "experiment.append_configs(\n",
    "    initial_state = initial_state,\n",
    "    partial_state_update_blocks = partial_state_update_blocks,\n",
    "    sim_configs = sim_config\n",
    ")"
   ]
  },
  {
   "cell_type": "code",
   "execution_count": null,
   "metadata": {},
   "outputs": [],
   "source": [
    "exec_mode = ExecutionMode()\n",
    "exec_context = ExecutionContext()\n",
    "\n",
    "simulation = Executor(exec_context=exec_context, configs=configs)\n",
    "raw_result, tensor_field, sessions = simulation.execute()"
   ]
  },
  {
   "cell_type": "code",
   "execution_count": null,
   "metadata": {},
   "outputs": [],
   "source": [
    "simulation_result = pd.DataFrame(raw_result)\n",
    "simulation_result"
   ]
  },
  {
   "cell_type": "code",
   "execution_count": null,
   "metadata": {},
   "outputs": [],
   "source": [
    "df = simulation_result.copy()\n",
    "df = df[df.simulation == 1]\n",
    "df"
   ]
  },
  {
   "cell_type": "markdown",
   "metadata": {},
   "source": [
    "### Simulation Analysis"
   ]
  },
  {
   "cell_type": "code",
   "execution_count": null,
   "metadata": {},
   "outputs": [],
   "source": [
    "import plotly.express as px\n",
    "\n",
    "px.line(df, x='timestep', y=['population', 'food'], facet_row='subset', height=800, width=1000)"
   ]
  },
  {
   "cell_type": "markdown",
   "metadata": {},
   "source": [
    "## 3. A/B Testing"
   ]
  },
  {
   "cell_type": "code",
   "execution_count": null,
   "metadata": {},
   "outputs": [],
   "source": [
    "df = simulation_result.copy()\n",
    "df"
   ]
  },
  {
   "cell_type": "code",
   "execution_count": null,
   "metadata": {},
   "outputs": [],
   "source": [
    "import plotly.express as px\n",
    "\n",
    "fig = px.line(\n",
    "    df,\n",
    "    x='timestep',\n",
    "    y=['population', 'food'],\n",
    "    facet_row='simulation',\n",
    "    facet_col='run',\n",
    "    height=800,\n",
    "    template='seaborn'\n",
    ")\n",
    "\n",
    "fig.update_layout(\n",
    "    margin=dict(l=20, r=20, t=20, b=20),\n",
    ")\n",
    "\n",
    "fig.show()"
   ]
  },
  {
   "cell_type": "markdown",
   "metadata": {},
   "source": [
    "# cadCAD Simulation Methods Overview"
   ]
  },
  {
   "cell_type": "markdown",
   "metadata": {},
   "source": [
    "<center>\n",
    "<img src=\"./images/cadcad-simulation-methods.png\"\n",
    "     alt=\"Simulation methods\"\n",
    "     style=\"width: 600px;\" />\n",
    "</center>"
   ]
  },
  {
   "cell_type": "markdown",
   "metadata": {},
   "source": [
    "# Data Manipulation & Analysis"
   ]
  },
  {
   "cell_type": "code",
   "execution_count": null,
   "metadata": {},
   "outputs": [],
   "source": [
    "df = simulation_result.copy()\n",
    "df"
   ]
  },
  {
   "cell_type": "code",
   "execution_count": null,
   "metadata": {},
   "outputs": [],
   "source": [
    "df = df.query(\"simulation == 1 and run == 2\")\n",
    "df"
   ]
  },
  {
   "cell_type": "code",
   "execution_count": null,
   "metadata": {},
   "outputs": [],
   "source": [
    "fig = px.scatter(\n",
    "    df[df.timestep >= 80],\n",
    "    x='population',\n",
    "    y='food',\n",
    "    color='timestep'\n",
    ")\n",
    "fig.show()"
   ]
  },
  {
   "cell_type": "markdown",
   "metadata": {},
   "source": [
    "<br/><br/><br/>\n",
    "# Well done!\n",
    "You're now well on your way to being a cadCAD system modeller!\n",
    "<br/><br/><br/><br/>"
   ]
  }
 ],
 "metadata": {
  "kernelspec": {
   "display_name": "Python 3",
   "language": "python",
   "name": "python3"
  },
  "language_info": {
   "codemirror_mode": {
    "name": "ipython",
    "version": 3
   },
   "file_extension": ".py",
   "mimetype": "text/x-python",
   "name": "python",
   "nbconvert_exporter": "python",
   "pygments_lexer": "ipython3",
   "version": "3.8.6"
  }
 },
 "nbformat": 4,
 "nbformat_minor": 4
}
